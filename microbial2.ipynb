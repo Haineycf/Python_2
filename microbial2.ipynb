{
 "cells": [
  {
   "cell_type": "code",
   "execution_count": 1,
   "metadata": {
    "collapsed": false
   },
   "outputs": [],
   "source": [
    "import numpy as np\n",
    "import matplotlib.pyplot as plt\n",
    "import os\n",
    "np.random.seed(12345)\n",
    "plt.rc('figure', figsize=(10, 6))\n",
    "from pandas import Series, DataFrame\n",
    "import pandas as pd"
   ]
  },
  {
   "cell_type": "code",
   "execution_count": 2,
   "metadata": {
    "collapsed": false
   },
   "outputs": [
    {
     "data": {
      "text/html": [
       "<div>\n",
       "<table border=\"1\" class=\"dataframe\">\n",
       "  <thead>\n",
       "    <tr style=\"text-align: right;\">\n",
       "      <th></th>\n",
       "      <th>LocusID</th>\n",
       "      <th>Reference</th>\n",
       "      <th>ASM1038v1</th>\n",
       "      <th>ASM1048v1</th>\n",
       "      <th>ASM1326v1</th>\n",
       "      <th>ASM1330v1</th>\n",
       "      <th>ASM14785v3</th>\n",
       "      <th>ASM1484v1</th>\n",
       "      <th>ASM16315v1</th>\n",
       "      <th>ASM16317v1</th>\n",
       "      <th>...</th>\n",
       "      <th>#G</th>\n",
       "      <th>#T</th>\n",
       "      <th>#Indel</th>\n",
       "      <th>#NXdegen</th>\n",
       "      <th>Chromosome</th>\n",
       "      <th>Position</th>\n",
       "      <th>InDupRegion</th>\n",
       "      <th>SampleConsensus</th>\n",
       "      <th>Pattern</th>\n",
       "      <th>Pattern#</th>\n",
       "    </tr>\n",
       "  </thead>\n",
       "  <tbody>\n",
       "    <tr>\n",
       "      <th>0</th>\n",
       "      <td>NC_007779.1::58</td>\n",
       "      <td>G</td>\n",
       "      <td>G</td>\n",
       "      <td>G</td>\n",
       "      <td>G</td>\n",
       "      <td>G</td>\n",
       "      <td>G</td>\n",
       "      <td>G</td>\n",
       "      <td>G</td>\n",
       "      <td>C</td>\n",
       "      <td>...</td>\n",
       "      <td>461</td>\n",
       "      <td>0</td>\n",
       "      <td>0</td>\n",
       "      <td>0</td>\n",
       "      <td>NC_007779.1</td>\n",
       "      <td>58</td>\n",
       "      <td>No</td>\n",
       "      <td>Yes</td>\n",
       "      <td>'111111111112112111111111111111111111111111111...</td>\n",
       "      <td>3</td>\n",
       "    </tr>\n",
       "    <tr>\n",
       "      <th>1</th>\n",
       "      <td>NC_007779.1::61</td>\n",
       "      <td>T</td>\n",
       "      <td>T</td>\n",
       "      <td>T</td>\n",
       "      <td>T</td>\n",
       "      <td>T</td>\n",
       "      <td>T</td>\n",
       "      <td>T</td>\n",
       "      <td>T</td>\n",
       "      <td>T</td>\n",
       "      <td>...</td>\n",
       "      <td>0</td>\n",
       "      <td>701</td>\n",
       "      <td>0</td>\n",
       "      <td>0</td>\n",
       "      <td>NC_007779.1</td>\n",
       "      <td>61</td>\n",
       "      <td>No</td>\n",
       "      <td>Yes</td>\n",
       "      <td>'111111111111111111111111111111111111111111111...</td>\n",
       "      <td>5</td>\n",
       "    </tr>\n",
       "    <tr>\n",
       "      <th>2</th>\n",
       "      <td>NC_007779.1::64</td>\n",
       "      <td>T</td>\n",
       "      <td>T</td>\n",
       "      <td>T</td>\n",
       "      <td>T</td>\n",
       "      <td>T</td>\n",
       "      <td>T</td>\n",
       "      <td>T</td>\n",
       "      <td>T</td>\n",
       "      <td>C</td>\n",
       "      <td>...</td>\n",
       "      <td>0</td>\n",
       "      <td>460</td>\n",
       "      <td>0</td>\n",
       "      <td>0</td>\n",
       "      <td>NC_007779.1</td>\n",
       "      <td>64</td>\n",
       "      <td>No</td>\n",
       "      <td>Yes</td>\n",
       "      <td>'111111111112112111111111111111111111111111111...</td>\n",
       "      <td>6</td>\n",
       "    </tr>\n",
       "    <tr>\n",
       "      <th>3</th>\n",
       "      <td>NC_007779.1::68</td>\n",
       "      <td>A</td>\n",
       "      <td>A</td>\n",
       "      <td>A</td>\n",
       "      <td>A</td>\n",
       "      <td>A</td>\n",
       "      <td>A</td>\n",
       "      <td>A</td>\n",
       "      <td>A</td>\n",
       "      <td>A</td>\n",
       "      <td>...</td>\n",
       "      <td>0</td>\n",
       "      <td>9</td>\n",
       "      <td>0</td>\n",
       "      <td>0</td>\n",
       "      <td>NC_007779.1</td>\n",
       "      <td>68</td>\n",
       "      <td>No</td>\n",
       "      <td>Yes</td>\n",
       "      <td>'111111111111111111111111111111111111111111111...</td>\n",
       "      <td>7</td>\n",
       "    </tr>\n",
       "    <tr>\n",
       "      <th>4</th>\n",
       "      <td>NC_007779.1::79</td>\n",
       "      <td>T</td>\n",
       "      <td>T</td>\n",
       "      <td>T</td>\n",
       "      <td>T</td>\n",
       "      <td>T</td>\n",
       "      <td>T</td>\n",
       "      <td>T</td>\n",
       "      <td>T</td>\n",
       "      <td>T</td>\n",
       "      <td>...</td>\n",
       "      <td>5</td>\n",
       "      <td>697</td>\n",
       "      <td>0</td>\n",
       "      <td>0</td>\n",
       "      <td>NC_007779.1</td>\n",
       "      <td>79</td>\n",
       "      <td>No</td>\n",
       "      <td>Yes</td>\n",
       "      <td>'111111111111111111111111111111111111111111111...</td>\n",
       "      <td>8</td>\n",
       "    </tr>\n",
       "  </tbody>\n",
       "</table>\n",
       "<p>5 rows × 274 columns</p>\n",
       "</div>"
      ],
      "text/plain": [
       "           LocusID Reference ASM1038v1 ASM1048v1 ASM1326v1 ASM1330v1  \\\n",
       "0  NC_007779.1::58         G         G         G         G         G   \n",
       "1  NC_007779.1::61         T         T         T         T         T   \n",
       "2  NC_007779.1::64         T         T         T         T         T   \n",
       "3  NC_007779.1::68         A         A         A         A         A   \n",
       "4  NC_007779.1::79         T         T         T         T         T   \n",
       "\n",
       "  ASM14785v3 ASM1484v1 ASM16315v1 ASM16317v1   ...      #G   #T #Indel  \\\n",
       "0          G         G          G          C   ...     461    0      0   \n",
       "1          T         T          T          T   ...       0  701      0   \n",
       "2          T         T          T          C   ...       0  460      0   \n",
       "3          A         A          A          A   ...       0    9      0   \n",
       "4          T         T          T          T   ...       5  697      0   \n",
       "\n",
       "  #NXdegen   Chromosome Position InDupRegion SampleConsensus  \\\n",
       "0        0  NC_007779.1       58          No             Yes   \n",
       "1        0  NC_007779.1       61          No             Yes   \n",
       "2        0  NC_007779.1       64          No             Yes   \n",
       "3        0  NC_007779.1       68          No             Yes   \n",
       "4        0  NC_007779.1       79          No             Yes   \n",
       "\n",
       "                                             Pattern Pattern#  \n",
       "0  '111111111112112111111111111111111111111111111...        3  \n",
       "1  '111111111111111111111111111111111111111111111...        5  \n",
       "2  '111111111112112111111111111111111111111111111...        6  \n",
       "3  '111111111111111111111111111111111111111111111...        7  \n",
       "4  '111111111111111111111111111111111111111111111...        8  \n",
       "\n",
       "[5 rows x 274 columns]"
      ]
     },
     "execution_count": 2,
     "metadata": {},
     "output_type": "execute_result"
    }
   ],
   "source": [
    "df = pd.read_table('Supplementary_Data_2.txt')\n",
    "df.head(n=5)"
   ]
  },
  {
   "cell_type": "code",
   "execution_count": 3,
   "metadata": {
    "collapsed": false
   },
   "outputs": [
    {
     "data": {
      "text/html": [
       "<div>\n",
       "<table border=\"1\" class=\"dataframe\">\n",
       "  <thead>\n",
       "    <tr style=\"text-align: right;\">\n",
       "      <th></th>\n",
       "      <th>LocusID</th>\n",
       "      <th>Reference</th>\n",
       "      <th>ASM1038v1</th>\n",
       "      <th>ASM1048v1</th>\n",
       "      <th>ASM1326v1</th>\n",
       "      <th>ASM1330v1</th>\n",
       "      <th>ASM14785v3</th>\n",
       "      <th>ASM1484v1</th>\n",
       "      <th>ASM16315v1</th>\n",
       "      <th>ASM16317v1</th>\n",
       "      <th>...</th>\n",
       "      <th>#G</th>\n",
       "      <th>#T</th>\n",
       "      <th>#Indel</th>\n",
       "      <th>#NXdegen</th>\n",
       "      <th>Chromosome</th>\n",
       "      <th>Position</th>\n",
       "      <th>InDupRegion</th>\n",
       "      <th>SampleConsensus</th>\n",
       "      <th>Pattern</th>\n",
       "      <th>Pattern#</th>\n",
       "    </tr>\n",
       "  </thead>\n",
       "  <tbody>\n",
       "    <tr>\n",
       "      <th>225284</th>\n",
       "      <td>NC_007779.1::4646237</td>\n",
       "      <td>C</td>\n",
       "      <td>C</td>\n",
       "      <td>C</td>\n",
       "      <td>C</td>\n",
       "      <td>C</td>\n",
       "      <td>C</td>\n",
       "      <td>C</td>\n",
       "      <td>C</td>\n",
       "      <td>C</td>\n",
       "      <td>...</td>\n",
       "      <td>0</td>\n",
       "      <td>1</td>\n",
       "      <td>0</td>\n",
       "      <td>0</td>\n",
       "      <td>NC_007779.1</td>\n",
       "      <td>4646237</td>\n",
       "      <td>No</td>\n",
       "      <td>Yes</td>\n",
       "      <td>'111111111111111111111111111111111111111111121...</td>\n",
       "      <td>129133</td>\n",
       "    </tr>\n",
       "    <tr>\n",
       "      <th>225285</th>\n",
       "      <td>NC_007779.1::4646248</td>\n",
       "      <td>A</td>\n",
       "      <td>A</td>\n",
       "      <td>A</td>\n",
       "      <td>A</td>\n",
       "      <td>A</td>\n",
       "      <td>A</td>\n",
       "      <td>A</td>\n",
       "      <td>A</td>\n",
       "      <td>A</td>\n",
       "      <td>...</td>\n",
       "      <td>10</td>\n",
       "      <td>0</td>\n",
       "      <td>0</td>\n",
       "      <td>0</td>\n",
       "      <td>NC_007779.1</td>\n",
       "      <td>4646248</td>\n",
       "      <td>No</td>\n",
       "      <td>Yes</td>\n",
       "      <td>'111111111111111111111111112111111111111111111...</td>\n",
       "      <td>131362</td>\n",
       "    </tr>\n",
       "    <tr>\n",
       "      <th>225286</th>\n",
       "      <td>NC_007779.1::4646257</td>\n",
       "      <td>G</td>\n",
       "      <td>G</td>\n",
       "      <td>G</td>\n",
       "      <td>G</td>\n",
       "      <td>G</td>\n",
       "      <td>G</td>\n",
       "      <td>G</td>\n",
       "      <td>G</td>\n",
       "      <td>G</td>\n",
       "      <td>...</td>\n",
       "      <td>688</td>\n",
       "      <td>0</td>\n",
       "      <td>0</td>\n",
       "      <td>0</td>\n",
       "      <td>NC_007779.1</td>\n",
       "      <td>4646257</td>\n",
       "      <td>No</td>\n",
       "      <td>Yes</td>\n",
       "      <td>'111111111111111111111111111111111111111111111...</td>\n",
       "      <td>131363</td>\n",
       "    </tr>\n",
       "    <tr>\n",
       "      <th>225287</th>\n",
       "      <td>NC_007779.1::4646283</td>\n",
       "      <td>A</td>\n",
       "      <td>A</td>\n",
       "      <td>A</td>\n",
       "      <td>A</td>\n",
       "      <td>A</td>\n",
       "      <td>A</td>\n",
       "      <td>A</td>\n",
       "      <td>A</td>\n",
       "      <td>A</td>\n",
       "      <td>...</td>\n",
       "      <td>1</td>\n",
       "      <td>0</td>\n",
       "      <td>0</td>\n",
       "      <td>0</td>\n",
       "      <td>NC_007779.1</td>\n",
       "      <td>4646283</td>\n",
       "      <td>No</td>\n",
       "      <td>Yes</td>\n",
       "      <td>'111111111111111111111111111111111111111111111...</td>\n",
       "      <td>258</td>\n",
       "    </tr>\n",
       "    <tr>\n",
       "      <th>225288</th>\n",
       "      <td>NC_007779.1::4646302</td>\n",
       "      <td>C</td>\n",
       "      <td>C</td>\n",
       "      <td>C</td>\n",
       "      <td>C</td>\n",
       "      <td>C</td>\n",
       "      <td>C</td>\n",
       "      <td>C</td>\n",
       "      <td>C</td>\n",
       "      <td>C</td>\n",
       "      <td>...</td>\n",
       "      <td>0</td>\n",
       "      <td>0</td>\n",
       "      <td>0</td>\n",
       "      <td>0</td>\n",
       "      <td>NC_007779.1</td>\n",
       "      <td>4646302</td>\n",
       "      <td>No</td>\n",
       "      <td>Yes</td>\n",
       "      <td>'111111111111111111111111111111111111111111111...</td>\n",
       "      <td>60</td>\n",
       "    </tr>\n",
       "  </tbody>\n",
       "</table>\n",
       "<p>5 rows × 274 columns</p>\n",
       "</div>"
      ],
      "text/plain": [
       "                     LocusID Reference ASM1038v1 ASM1048v1 ASM1326v1  \\\n",
       "225284  NC_007779.1::4646237         C         C         C         C   \n",
       "225285  NC_007779.1::4646248         A         A         A         A   \n",
       "225286  NC_007779.1::4646257         G         G         G         G   \n",
       "225287  NC_007779.1::4646283         A         A         A         A   \n",
       "225288  NC_007779.1::4646302         C         C         C         C   \n",
       "\n",
       "       ASM1330v1 ASM14785v3 ASM1484v1 ASM16315v1 ASM16317v1   ...      #G #T  \\\n",
       "225284         C          C         C          C          C   ...       0  1   \n",
       "225285         A          A         A          A          A   ...      10  0   \n",
       "225286         G          G         G          G          G   ...     688  0   \n",
       "225287         A          A         A          A          A   ...       1  0   \n",
       "225288         C          C         C          C          C   ...       0  0   \n",
       "\n",
       "       #Indel #NXdegen   Chromosome Position InDupRegion SampleConsensus  \\\n",
       "225284      0        0  NC_007779.1  4646237          No             Yes   \n",
       "225285      0        0  NC_007779.1  4646248          No             Yes   \n",
       "225286      0        0  NC_007779.1  4646257          No             Yes   \n",
       "225287      0        0  NC_007779.1  4646283          No             Yes   \n",
       "225288      0        0  NC_007779.1  4646302          No             Yes   \n",
       "\n",
       "                                                  Pattern Pattern#  \n",
       "225284  '111111111111111111111111111111111111111111121...   129133  \n",
       "225285  '111111111111111111111111112111111111111111111...   131362  \n",
       "225286  '111111111111111111111111111111111111111111111...   131363  \n",
       "225287  '111111111111111111111111111111111111111111111...      258  \n",
       "225288  '111111111111111111111111111111111111111111111...       60  \n",
       "\n",
       "[5 rows x 274 columns]"
      ]
     },
     "execution_count": 3,
     "metadata": {},
     "output_type": "execute_result"
    }
   ],
   "source": [
    "df.tail(n=5)"
   ]
  },
  {
   "cell_type": "code",
   "execution_count": 4,
   "metadata": {
    "collapsed": false
   },
   "outputs": [
    {
     "data": {
      "text/html": [
       "<div>\n",
       "<table border=\"1\" class=\"dataframe\">\n",
       "  <thead>\n",
       "    <tr style=\"text-align: right;\">\n",
       "      <th></th>\n",
       "      <th>Chromosome</th>\n",
       "      <th>Position</th>\n",
       "      <th>#A</th>\n",
       "      <th>#C</th>\n",
       "      <th>#G</th>\n",
       "      <th>#T</th>\n",
       "    </tr>\n",
       "  </thead>\n",
       "  <tbody>\n",
       "    <tr>\n",
       "      <th>0</th>\n",
       "      <td>NC_007779.1</td>\n",
       "      <td>58</td>\n",
       "      <td>6</td>\n",
       "      <td>235</td>\n",
       "      <td>461</td>\n",
       "      <td>0</td>\n",
       "    </tr>\n",
       "    <tr>\n",
       "      <th>1</th>\n",
       "      <td>NC_007779.1</td>\n",
       "      <td>61</td>\n",
       "      <td>1</td>\n",
       "      <td>0</td>\n",
       "      <td>0</td>\n",
       "      <td>701</td>\n",
       "    </tr>\n",
       "    <tr>\n",
       "      <th>2</th>\n",
       "      <td>NC_007779.1</td>\n",
       "      <td>64</td>\n",
       "      <td>0</td>\n",
       "      <td>242</td>\n",
       "      <td>0</td>\n",
       "      <td>460</td>\n",
       "    </tr>\n",
       "    <tr>\n",
       "      <th>3</th>\n",
       "      <td>NC_007779.1</td>\n",
       "      <td>68</td>\n",
       "      <td>693</td>\n",
       "      <td>0</td>\n",
       "      <td>0</td>\n",
       "      <td>9</td>\n",
       "    </tr>\n",
       "    <tr>\n",
       "      <th>4</th>\n",
       "      <td>NC_007779.1</td>\n",
       "      <td>79</td>\n",
       "      <td>0</td>\n",
       "      <td>0</td>\n",
       "      <td>5</td>\n",
       "      <td>697</td>\n",
       "    </tr>\n",
       "  </tbody>\n",
       "</table>\n",
       "</div>"
      ],
      "text/plain": [
       "    Chromosome  Position   #A   #C   #G   #T\n",
       "0  NC_007779.1        58    6  235  461    0\n",
       "1  NC_007779.1        61    1    0    0  701\n",
       "2  NC_007779.1        64    0  242    0  460\n",
       "3  NC_007779.1        68  693    0    0    9\n",
       "4  NC_007779.1        79    0    0    5  697"
      ]
     },
     "execution_count": 4,
     "metadata": {},
     "output_type": "execute_result"
    }
   ],
   "source": [
    "df1 = df[['Chromosome','Position','#A','#C','#G','#T']]\n",
    "df1.head(n=5)"
   ]
  },
  {
   "cell_type": "code",
   "execution_count": 5,
   "metadata": {
    "collapsed": true
   },
   "outputs": [],
   "source": [
    "def max_count(row):\n",
    "   if row['#A'] > row['#C'] :\n",
    "      if row['#A']>row['#G']:\n",
    "        if row ['#A'] > row['#T']:\n",
    "         return row['#A']\n",
    "   if row['#C'] > row['#G']:\n",
    "    if row['#C'] >row['#T']:\n",
    "        return row['#C']\n",
    "   if row ['#G'] > row['#T']:\n",
    "        return row['#G']\n",
    "   return row['#T']"
   ]
  },
  {
   "cell_type": "code",
   "execution_count": 6,
   "metadata": {
    "collapsed": false
   },
   "outputs": [
    {
     "data": {
      "text/html": [
       "<div>\n",
       "<table border=\"1\" class=\"dataframe\">\n",
       "  <thead>\n",
       "    <tr style=\"text-align: right;\">\n",
       "      <th></th>\n",
       "      <th>LocusID</th>\n",
       "      <th>Reference</th>\n",
       "      <th>ASM1038v1</th>\n",
       "      <th>ASM1048v1</th>\n",
       "      <th>ASM1326v1</th>\n",
       "      <th>ASM1330v1</th>\n",
       "      <th>ASM14785v3</th>\n",
       "      <th>ASM1484v1</th>\n",
       "      <th>ASM16315v1</th>\n",
       "      <th>ASM16317v1</th>\n",
       "      <th>...</th>\n",
       "      <th>#T</th>\n",
       "      <th>#Indel</th>\n",
       "      <th>#NXdegen</th>\n",
       "      <th>Chromosome</th>\n",
       "      <th>Position</th>\n",
       "      <th>InDupRegion</th>\n",
       "      <th>SampleConsensus</th>\n",
       "      <th>Pattern</th>\n",
       "      <th>Pattern#</th>\n",
       "      <th>max_count</th>\n",
       "    </tr>\n",
       "  </thead>\n",
       "  <tbody>\n",
       "    <tr>\n",
       "      <th>0</th>\n",
       "      <td>NC_007779.1::58</td>\n",
       "      <td>G</td>\n",
       "      <td>G</td>\n",
       "      <td>G</td>\n",
       "      <td>G</td>\n",
       "      <td>G</td>\n",
       "      <td>G</td>\n",
       "      <td>G</td>\n",
       "      <td>G</td>\n",
       "      <td>C</td>\n",
       "      <td>...</td>\n",
       "      <td>0</td>\n",
       "      <td>0</td>\n",
       "      <td>0</td>\n",
       "      <td>NC_007779.1</td>\n",
       "      <td>58</td>\n",
       "      <td>No</td>\n",
       "      <td>Yes</td>\n",
       "      <td>'111111111112112111111111111111111111111111111...</td>\n",
       "      <td>3</td>\n",
       "      <td>461</td>\n",
       "    </tr>\n",
       "    <tr>\n",
       "      <th>1</th>\n",
       "      <td>NC_007779.1::61</td>\n",
       "      <td>T</td>\n",
       "      <td>T</td>\n",
       "      <td>T</td>\n",
       "      <td>T</td>\n",
       "      <td>T</td>\n",
       "      <td>T</td>\n",
       "      <td>T</td>\n",
       "      <td>T</td>\n",
       "      <td>T</td>\n",
       "      <td>...</td>\n",
       "      <td>701</td>\n",
       "      <td>0</td>\n",
       "      <td>0</td>\n",
       "      <td>NC_007779.1</td>\n",
       "      <td>61</td>\n",
       "      <td>No</td>\n",
       "      <td>Yes</td>\n",
       "      <td>'111111111111111111111111111111111111111111111...</td>\n",
       "      <td>5</td>\n",
       "      <td>701</td>\n",
       "    </tr>\n",
       "    <tr>\n",
       "      <th>2</th>\n",
       "      <td>NC_007779.1::64</td>\n",
       "      <td>T</td>\n",
       "      <td>T</td>\n",
       "      <td>T</td>\n",
       "      <td>T</td>\n",
       "      <td>T</td>\n",
       "      <td>T</td>\n",
       "      <td>T</td>\n",
       "      <td>T</td>\n",
       "      <td>C</td>\n",
       "      <td>...</td>\n",
       "      <td>460</td>\n",
       "      <td>0</td>\n",
       "      <td>0</td>\n",
       "      <td>NC_007779.1</td>\n",
       "      <td>64</td>\n",
       "      <td>No</td>\n",
       "      <td>Yes</td>\n",
       "      <td>'111111111112112111111111111111111111111111111...</td>\n",
       "      <td>6</td>\n",
       "      <td>460</td>\n",
       "    </tr>\n",
       "    <tr>\n",
       "      <th>3</th>\n",
       "      <td>NC_007779.1::68</td>\n",
       "      <td>A</td>\n",
       "      <td>A</td>\n",
       "      <td>A</td>\n",
       "      <td>A</td>\n",
       "      <td>A</td>\n",
       "      <td>A</td>\n",
       "      <td>A</td>\n",
       "      <td>A</td>\n",
       "      <td>A</td>\n",
       "      <td>...</td>\n",
       "      <td>9</td>\n",
       "      <td>0</td>\n",
       "      <td>0</td>\n",
       "      <td>NC_007779.1</td>\n",
       "      <td>68</td>\n",
       "      <td>No</td>\n",
       "      <td>Yes</td>\n",
       "      <td>'111111111111111111111111111111111111111111111...</td>\n",
       "      <td>7</td>\n",
       "      <td>693</td>\n",
       "    </tr>\n",
       "    <tr>\n",
       "      <th>4</th>\n",
       "      <td>NC_007779.1::79</td>\n",
       "      <td>T</td>\n",
       "      <td>T</td>\n",
       "      <td>T</td>\n",
       "      <td>T</td>\n",
       "      <td>T</td>\n",
       "      <td>T</td>\n",
       "      <td>T</td>\n",
       "      <td>T</td>\n",
       "      <td>T</td>\n",
       "      <td>...</td>\n",
       "      <td>697</td>\n",
       "      <td>0</td>\n",
       "      <td>0</td>\n",
       "      <td>NC_007779.1</td>\n",
       "      <td>79</td>\n",
       "      <td>No</td>\n",
       "      <td>Yes</td>\n",
       "      <td>'111111111111111111111111111111111111111111111...</td>\n",
       "      <td>8</td>\n",
       "      <td>697</td>\n",
       "    </tr>\n",
       "  </tbody>\n",
       "</table>\n",
       "<p>5 rows × 275 columns</p>\n",
       "</div>"
      ],
      "text/plain": [
       "           LocusID Reference ASM1038v1 ASM1048v1 ASM1326v1 ASM1330v1  \\\n",
       "0  NC_007779.1::58         G         G         G         G         G   \n",
       "1  NC_007779.1::61         T         T         T         T         T   \n",
       "2  NC_007779.1::64         T         T         T         T         T   \n",
       "3  NC_007779.1::68         A         A         A         A         A   \n",
       "4  NC_007779.1::79         T         T         T         T         T   \n",
       "\n",
       "  ASM14785v3 ASM1484v1 ASM16315v1 ASM16317v1    ...      #T #Indel #NXdegen  \\\n",
       "0          G         G          G          C    ...       0      0        0   \n",
       "1          T         T          T          T    ...     701      0        0   \n",
       "2          T         T          T          C    ...     460      0        0   \n",
       "3          A         A          A          A    ...       9      0        0   \n",
       "4          T         T          T          T    ...     697      0        0   \n",
       "\n",
       "    Chromosome Position InDupRegion SampleConsensus  \\\n",
       "0  NC_007779.1       58          No             Yes   \n",
       "1  NC_007779.1       61          No             Yes   \n",
       "2  NC_007779.1       64          No             Yes   \n",
       "3  NC_007779.1       68          No             Yes   \n",
       "4  NC_007779.1       79          No             Yes   \n",
       "\n",
       "                                             Pattern Pattern# max_count  \n",
       "0  '111111111112112111111111111111111111111111111...        3       461  \n",
       "1  '111111111111111111111111111111111111111111111...        5       701  \n",
       "2  '111111111112112111111111111111111111111111111...        6       460  \n",
       "3  '111111111111111111111111111111111111111111111...        7       693  \n",
       "4  '111111111111111111111111111111111111111111111...        8       697  \n",
       "\n",
       "[5 rows x 275 columns]"
      ]
     },
     "execution_count": 6,
     "metadata": {},
     "output_type": "execute_result"
    }
   ],
   "source": [
    "df['max_count'] = df.apply (lambda row: max_count (row),axis=1)\n",
    "df.head(n=5)"
   ]
  },
  {
   "cell_type": "code",
   "execution_count": 7,
   "metadata": {
    "collapsed": false
   },
   "outputs": [
    {
     "name": "stderr",
     "output_type": "stream",
     "text": [
      "C:\\Users\\Haineycf\\Anaconda2\\lib\\site-packages\\ipykernel\\__main__.py:1: SettingWithCopyWarning: \n",
      "A value is trying to be set on a copy of a slice from a DataFrame.\n",
      "Try using .loc[row_indexer,col_indexer] = value instead\n",
      "\n",
      "See the caveats in the documentation: http://pandas.pydata.org/pandas-docs/stable/indexing.html#indexing-view-versus-copy\n",
      "  if __name__ == '__main__':\n"
     ]
    },
    {
     "data": {
      "text/html": [
       "<div>\n",
       "<table border=\"1\" class=\"dataframe\">\n",
       "  <thead>\n",
       "    <tr style=\"text-align: right;\">\n",
       "      <th></th>\n",
       "      <th>Chromosome</th>\n",
       "      <th>Position</th>\n",
       "      <th>#A</th>\n",
       "      <th>#C</th>\n",
       "      <th>#G</th>\n",
       "      <th>#T</th>\n",
       "      <th>max_count</th>\n",
       "    </tr>\n",
       "  </thead>\n",
       "  <tbody>\n",
       "    <tr>\n",
       "      <th>0</th>\n",
       "      <td>NC_007779.1</td>\n",
       "      <td>58</td>\n",
       "      <td>6</td>\n",
       "      <td>235</td>\n",
       "      <td>461</td>\n",
       "      <td>0</td>\n",
       "      <td>461</td>\n",
       "    </tr>\n",
       "    <tr>\n",
       "      <th>1</th>\n",
       "      <td>NC_007779.1</td>\n",
       "      <td>61</td>\n",
       "      <td>1</td>\n",
       "      <td>0</td>\n",
       "      <td>0</td>\n",
       "      <td>701</td>\n",
       "      <td>701</td>\n",
       "    </tr>\n",
       "    <tr>\n",
       "      <th>2</th>\n",
       "      <td>NC_007779.1</td>\n",
       "      <td>64</td>\n",
       "      <td>0</td>\n",
       "      <td>242</td>\n",
       "      <td>0</td>\n",
       "      <td>460</td>\n",
       "      <td>460</td>\n",
       "    </tr>\n",
       "    <tr>\n",
       "      <th>3</th>\n",
       "      <td>NC_007779.1</td>\n",
       "      <td>68</td>\n",
       "      <td>693</td>\n",
       "      <td>0</td>\n",
       "      <td>0</td>\n",
       "      <td>9</td>\n",
       "      <td>693</td>\n",
       "    </tr>\n",
       "    <tr>\n",
       "      <th>4</th>\n",
       "      <td>NC_007779.1</td>\n",
       "      <td>79</td>\n",
       "      <td>0</td>\n",
       "      <td>0</td>\n",
       "      <td>5</td>\n",
       "      <td>697</td>\n",
       "      <td>697</td>\n",
       "    </tr>\n",
       "  </tbody>\n",
       "</table>\n",
       "</div>"
      ],
      "text/plain": [
       "    Chromosome  Position   #A   #C   #G   #T  max_count\n",
       "0  NC_007779.1        58    6  235  461    0        461\n",
       "1  NC_007779.1        61    1    0    0  701        701\n",
       "2  NC_007779.1        64    0  242    0  460        460\n",
       "3  NC_007779.1        68  693    0    0    9        693\n",
       "4  NC_007779.1        79    0    0    5  697        697"
      ]
     },
     "execution_count": 7,
     "metadata": {},
     "output_type": "execute_result"
    }
   ],
   "source": [
    "df1['max_count'] = df1.apply (lambda row: max_count (row),axis=1)\n",
    "df1.head(n=5)"
   ]
  },
  {
   "cell_type": "code",
   "execution_count": null,
   "metadata": {
    "collapsed": false
   },
   "outputs": [],
   "source": [
    "\n"
   ]
  },
  {
   "cell_type": "code",
   "execution_count": 9,
   "metadata": {
    "collapsed": false
   },
   "outputs": [],
   "source": [
    "def min_count(row):\n",
    "    if row['#T'] !=0:\n",
    "        if row['#T'] != row['max_count']:\n",
    "            if row['#T'] > row['#G'] or row['#G'] == row['max_count'] :\n",
    "                if row['#T']>row['#C'] or row['#C'] == row['max_count'] :\n",
    "                    if row ['#T'] > row['#A'] or row['#A'] == row['max_count']:\n",
    "                        return row['#T']\n",
    "    if row['#G'] !=0 : \n",
    "        if row['#G'] != row['max_count']:\n",
    "            if row['#G'] > row['#C']or row['#C']== row['max_count']:\n",
    "                if row['#G'] > row['#A']or row['#A'] == row['max_count']:\n",
    "                    return row['#G']\n",
    "    if row['#C'] !=0 :\n",
    "        if row['#C'] != row['max_count']:\n",
    "            if row ['#C'] > row['#A']or row['#A'] == row['max_count']:\n",
    "                return row['#C']\n",
    "    if row['#A'] !=0 :\n",
    "        if row ['#A'] != row['max_count']:\n",
    "            return row['#A']\n",
    "    return 999"
   ]
  },
  {
   "cell_type": "code",
   "execution_count": 11,
   "metadata": {
    "collapsed": false
   },
   "outputs": [
    {
     "name": "stderr",
     "output_type": "stream",
     "text": [
      "C:\\Users\\Haineycf\\Anaconda2\\lib\\site-packages\\ipykernel\\__main__.py:1: SettingWithCopyWarning: \n",
      "A value is trying to be set on a copy of a slice from a DataFrame.\n",
      "Try using .loc[row_indexer,col_indexer] = value instead\n",
      "\n",
      "See the caveats in the documentation: http://pandas.pydata.org/pandas-docs/stable/indexing.html#indexing-view-versus-copy\n",
      "  if __name__ == '__main__':\n"
     ]
    },
    {
     "data": {
      "text/html": [
       "<div>\n",
       "<table border=\"1\" class=\"dataframe\">\n",
       "  <thead>\n",
       "    <tr style=\"text-align: right;\">\n",
       "      <th></th>\n",
       "      <th>Chromosome</th>\n",
       "      <th>Position</th>\n",
       "      <th>#A</th>\n",
       "      <th>#C</th>\n",
       "      <th>#G</th>\n",
       "      <th>#T</th>\n",
       "      <th>max_count</th>\n",
       "      <th>min_count</th>\n",
       "    </tr>\n",
       "  </thead>\n",
       "  <tbody>\n",
       "    <tr>\n",
       "      <th>0</th>\n",
       "      <td>NC_007779.1</td>\n",
       "      <td>58</td>\n",
       "      <td>6</td>\n",
       "      <td>235</td>\n",
       "      <td>461</td>\n",
       "      <td>0</td>\n",
       "      <td>461</td>\n",
       "      <td>235</td>\n",
       "    </tr>\n",
       "    <tr>\n",
       "      <th>1</th>\n",
       "      <td>NC_007779.1</td>\n",
       "      <td>61</td>\n",
       "      <td>1</td>\n",
       "      <td>0</td>\n",
       "      <td>0</td>\n",
       "      <td>701</td>\n",
       "      <td>701</td>\n",
       "      <td>1</td>\n",
       "    </tr>\n",
       "    <tr>\n",
       "      <th>2</th>\n",
       "      <td>NC_007779.1</td>\n",
       "      <td>64</td>\n",
       "      <td>0</td>\n",
       "      <td>242</td>\n",
       "      <td>0</td>\n",
       "      <td>460</td>\n",
       "      <td>460</td>\n",
       "      <td>242</td>\n",
       "    </tr>\n",
       "    <tr>\n",
       "      <th>3</th>\n",
       "      <td>NC_007779.1</td>\n",
       "      <td>68</td>\n",
       "      <td>693</td>\n",
       "      <td>0</td>\n",
       "      <td>0</td>\n",
       "      <td>9</td>\n",
       "      <td>693</td>\n",
       "      <td>9</td>\n",
       "    </tr>\n",
       "    <tr>\n",
       "      <th>4</th>\n",
       "      <td>NC_007779.1</td>\n",
       "      <td>79</td>\n",
       "      <td>0</td>\n",
       "      <td>0</td>\n",
       "      <td>5</td>\n",
       "      <td>697</td>\n",
       "      <td>697</td>\n",
       "      <td>5</td>\n",
       "    </tr>\n",
       "  </tbody>\n",
       "</table>\n",
       "</div>"
      ],
      "text/plain": [
       "    Chromosome  Position   #A   #C   #G   #T  max_count  min_count\n",
       "0  NC_007779.1        58    6  235  461    0        461        235\n",
       "1  NC_007779.1        61    1    0    0  701        701          1\n",
       "2  NC_007779.1        64    0  242    0  460        460        242\n",
       "3  NC_007779.1        68  693    0    0    9        693          9\n",
       "4  NC_007779.1        79    0    0    5  697        697          5"
      ]
     },
     "execution_count": 11,
     "metadata": {},
     "output_type": "execute_result"
    }
   ],
   "source": [
    "df1['min_count'] = df1.apply (lambda row: min_count (row),axis=1)\n",
    "df1.head(n=5)"
   ]
  },
  {
   "cell_type": "code",
   "execution_count": null,
   "metadata": {
    "collapsed": false
   },
   "outputs": [],
   "source": [
    "df1.describe().transpose()"
   ]
  },
  {
   "cell_type": "code",
   "execution_count": null,
   "metadata": {
    "collapsed": false
   },
   "outputs": [],
   "source": [
    "plt.hist(df1.min_count)\n",
    "plt.title(\"Min Allele\")\n",
    "plt.xlabel(\"Allele Count\")\n",
    "plt.ylabel(\"Frequency\")\n",
    "plt.show()"
   ]
  },
  {
   "cell_type": "code",
   "execution_count": null,
   "metadata": {
    "collapsed": false
   },
   "outputs": [],
   "source": [
    "df2 = df1.query('min_count > 10')\n",
    "head(df2)"
   ]
  },
  {
   "cell_type": "code",
   "execution_count": null,
   "metadata": {
    "collapsed": true
   },
   "outputs": [],
   "source": [
    "df2 = df2[df2.min_count != 999]"
   ]
  },
  {
   "cell_type": "code",
   "execution_count": null,
   "metadata": {
    "collapsed": true
   },
   "outputs": [],
   "source": [
    "df2 = df2.dropna()"
   ]
  },
  {
   "cell_type": "code",
   "execution_count": null,
   "metadata": {
    "collapsed": false
   },
   "outputs": [],
   "source": [
    "df2.describe().transpose()"
   ]
  },
  {
   "cell_type": "code",
   "execution_count": null,
   "metadata": {
    "collapsed": true
   },
   "outputs": [],
   "source": [
    "def diversity(row):\n",
    "   if row['#T'] !=0:\n",
    "    if row['#T'] != row['max_count']:\n",
    "     if row['#T'] > row['#G'] or row['#G'] == row['max_count'] :\n",
    "        if row['#T']>row['#C'] or row['#C'] == row['max_count'] :\n",
    "         if row ['#T'] > row['#A'] or row['#A'] == row['max_count']:\n",
    "            return float(row['#T'])/702\n",
    "   if row['#G'] !=0:\n",
    "    if row['#G'] != row['max_count']:\n",
    "     if row['#G'] > row['#C']or row['#C']== row['max_count']:\n",
    "        if row['#G'] > row['#A']or row['#A'] == row['max_count']:\n",
    "         return float(row['#G'])/702\n",
    "   if row['#C'] !=0:\n",
    "    if row['#C'] != row['max_count']:\n",
    "     if row ['#C'] > row['#A']or row['#A'] == row['max_count']:\n",
    "        return float(row['#C'])/702\n",
    "   if row['#A'] !=0 & row ['#A'] != row['max_count']:\n",
    "        return float(row['#A'])/702\n",
    "   return 'NaN'"
   ]
  },
  {
   "cell_type": "code",
   "execution_count": null,
   "metadata": {
    "collapsed": true
   },
   "outputs": [],
   "source": [
    "# df.to_csv('example.csv')"
   ]
  },
  {
   "cell_type": "code",
   "execution_count": 40,
   "metadata": {
    "collapsed": false
   },
   "outputs": [
    {
     "data": {
      "text/html": [
       "<div>\n",
       "<table border=\"1\" class=\"dataframe\">\n",
       "  <thead>\n",
       "    <tr style=\"text-align: right;\">\n",
       "      <th></th>\n",
       "      <th>Chromosome</th>\n",
       "      <th>Position</th>\n",
       "      <th>#A</th>\n",
       "      <th>#C</th>\n",
       "      <th>#G</th>\n",
       "      <th>#T</th>\n",
       "      <th>max_count</th>\n",
       "      <th>min_count</th>\n",
       "      <th>diversity</th>\n",
       "    </tr>\n",
       "  </thead>\n",
       "  <tbody>\n",
       "    <tr>\n",
       "      <th>0</th>\n",
       "      <td>NC_007779.1</td>\n",
       "      <td>58</td>\n",
       "      <td>6</td>\n",
       "      <td>235</td>\n",
       "      <td>461</td>\n",
       "      <td>0</td>\n",
       "      <td>461</td>\n",
       "      <td>235</td>\n",
       "      <td>0.334758</td>\n",
       "    </tr>\n",
       "    <tr>\n",
       "      <th>2</th>\n",
       "      <td>NC_007779.1</td>\n",
       "      <td>64</td>\n",
       "      <td>0</td>\n",
       "      <td>242</td>\n",
       "      <td>0</td>\n",
       "      <td>460</td>\n",
       "      <td>460</td>\n",
       "      <td>242</td>\n",
       "      <td>0.344729</td>\n",
       "    </tr>\n",
       "    <tr>\n",
       "      <th>7</th>\n",
       "      <td>NC_007779.1</td>\n",
       "      <td>95</td>\n",
       "      <td>0</td>\n",
       "      <td>0</td>\n",
       "      <td>682</td>\n",
       "      <td>20</td>\n",
       "      <td>682</td>\n",
       "      <td>20</td>\n",
       "      <td>0.028490</td>\n",
       "    </tr>\n",
       "    <tr>\n",
       "      <th>8</th>\n",
       "      <td>NC_007779.1</td>\n",
       "      <td>96</td>\n",
       "      <td>0</td>\n",
       "      <td>20</td>\n",
       "      <td>0</td>\n",
       "      <td>682</td>\n",
       "      <td>682</td>\n",
       "      <td>20</td>\n",
       "      <td>0.028490</td>\n",
       "    </tr>\n",
       "    <tr>\n",
       "      <th>12</th>\n",
       "      <td>NC_007779.1</td>\n",
       "      <td>393</td>\n",
       "      <td>0</td>\n",
       "      <td>0</td>\n",
       "      <td>487</td>\n",
       "      <td>215</td>\n",
       "      <td>487</td>\n",
       "      <td>215</td>\n",
       "      <td>0.306268</td>\n",
       "    </tr>\n",
       "  </tbody>\n",
       "</table>\n",
       "</div>"
      ],
      "text/plain": [
       "     Chromosome  Position  #A   #C   #G   #T  max_count  min_count  diversity\n",
       "0   NC_007779.1        58   6  235  461    0        461        235   0.334758\n",
       "2   NC_007779.1        64   0  242    0  460        460        242   0.344729\n",
       "7   NC_007779.1        95   0    0  682   20        682         20   0.028490\n",
       "8   NC_007779.1        96   0   20    0  682        682         20   0.028490\n",
       "12  NC_007779.1       393   0    0  487  215        487        215   0.306268"
      ]
     },
     "execution_count": 40,
     "metadata": {},
     "output_type": "execute_result"
    }
   ],
   "source": [
    "df2['diversity'] = df2.apply (lambda row: diversity (row),axis=1)\n",
    "df2.head(n=5)"
   ]
  },
  {
   "cell_type": "code",
   "execution_count": 41,
   "metadata": {
    "collapsed": false
   },
   "outputs": [
    {
     "data": {
      "image/png": "[encoded data removed]",
      "text/plain": [
       "<matplotlib.figure.Figure at 0xf1ca160>"
      ]
     },
     "metadata": {},
     "output_type": "display_data"
    }
   ],
   "source": [
    "plt.hist(df2.diversity)\n",
    "plt.title(\"Diversity\")\n",
    "plt.xlabel(\"diversity\")\n",
    "plt.ylabel(\"Frequency\")\n",
    "plt.show()"
   ]
  },
  {
   "cell_type": "code",
   "execution_count": 57,
   "metadata": {
    "collapsed": false
   },
   "outputs": [],
   "source": [
    "div100 = pd.Series(df2.diversity).rolling(window=1000).mean()"
   ]
  },
  {
   "cell_type": "code",
   "execution_count": 58,
   "metadata": {
    "collapsed": false
   },
   "outputs": [
    {
     "data": {
      "image/png": "[encoded data removed]",
      "text/plain": [
       "<matplotlib.figure.Figure at 0x12132e48>"
      ]
     },
     "metadata": {},
     "output_type": "display_data"
    }
   ],
   "source": [
    "df3=pd.concat([df2.Position, div100], axis=1)\n",
    "plt.scatter(df3.Position, df3.diversity)\n",
    "plt.show()"
   ]
  },
  {
   "cell_type": "code",
   "execution_count": null,
   "metadata": {
    "collapsed": true
   },
   "outputs": [],
   "source": [
    "df.loc[df.reference == 'bad', ['apple', 'banana']] = np.nan"
   ]
  },
  {
   "cell_type": "code",
   "execution_count": 48,
   "metadata": {
    "collapsed": false
   },
   "outputs": [
    {
     "data": {
      "text/plain": [
       "140.4"
      ]
     },
     "execution_count": 48,
     "metadata": {},
     "output_type": "execute_result"
    }
   ],
   "source": [
    "\n"
   ]
  },
  {
   "cell_type": "code",
   "execution_count": 50,
   "metadata": {
    "collapsed": false
   },
   "outputs": [
    {
     "data": {
      "text/plain": [
       "80.73"
      ]
     },
     "execution_count": 50,
     "metadata": {},
     "output_type": "execute_result"
    }
   ],
   "source": [
    "702*.115"
   ]
  },
  {
   "cell_type": "code",
   "execution_count": null,
   "metadata": {
    "collapsed": true
   },
   "outputs": [],
   "source": []
  }
 ],
 "metadata": {
  "anaconda-cloud": {},
  "kernelspec": {
   "display_name": "Python [conda root]",
   "language": "python",
   "name": "conda-root-py"
  },
  "language_info": {
   "codemirror_mode": {
    "name": "ipython",
    "version": 2
   },
   "file_extension": ".py",
   "mimetype": "text/x-python",
   "name": "python",
   "nbconvert_exporter": "python",
   "pygments_lexer": "ipython2",
   "version": "2.7.12"
  }
 },
 "nbformat": 4,
 "nbformat_minor": 1
}
